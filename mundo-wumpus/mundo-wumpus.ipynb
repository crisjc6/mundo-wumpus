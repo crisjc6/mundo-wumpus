{
 "cells": [
  {
   "cell_type": "code",
   "execution_count": 1,
   "metadata": {},
   "outputs": [
    {
     "name": "stdout",
     "output_type": "stream",
     "text": [
      "[['5425254', '1', '12313', '313'], ['3213', '354135', '313', '31'], ['4665', '644', '6456', '4654']]\n"
     ]
    }
   ],
   "source": [
    "import tkinter as tk\n",
    "\n",
    "class SimpleTableInput(tk.Frame):\n",
    "    def __init__(self, parent, rows, columns):\n",
    "        tk.Frame.__init__(self, parent)\n",
    "\n",
    "        self._entry = {}\n",
    "        self.rows = rows\n",
    "        self.columns = columns\n",
    "\n",
    "        # register a command to use for validation\n",
    "        vcmd = (self.register(self._validate), \"%P\")\n",
    "\n",
    "        # create the table of widgets\n",
    "        for row in range(self.rows):\n",
    "            for column in range(self.columns):\n",
    "                index = (row, column)\n",
    "                e = tk.Entry(self, validate=\"key\", validatecommand=vcmd)\n",
    "                e.grid(row=row, column=column, stick=\"nsew\")\n",
    "                self._entry[index] = e\n",
    "        # adjust column weights so they all expand equally\n",
    "        for column in range(self.columns):\n",
    "            self.grid_columnconfigure(column, weight=1)\n",
    "        # designate a final, empty row to fill up any extra space\n",
    "        self.grid_rowconfigure(rows, weight=1)\n",
    "\n",
    "    def get(self):\n",
    "        '''Return a list of lists, containing the data in the table'''\n",
    "        result = []\n",
    "        for row in range(self.rows):\n",
    "            current_row = []\n",
    "            for column in range(self.columns):\n",
    "                index = (row, column)\n",
    "                current_row.append(self._entry[index].get())\n",
    "            result.append(current_row)\n",
    "        return result\n",
    "\n",
    "    def _validate(self, P):\n",
    "        '''Perform input validation. \n",
    "\n",
    "        Allow only an empty value, or a value that can be converted to a float\n",
    "        '''\n",
    "        if P.strip() == \"\":\n",
    "            return True\n",
    "\n",
    "        try:\n",
    "            f = float(P)\n",
    "        except ValueError:\n",
    "            self.bell()\n",
    "            return False\n",
    "        return True\n",
    "\n",
    "class Example(tk.Frame):\n",
    "    def __init__(self, parent):\n",
    "        tk.Frame.__init__(self, parent)\n",
    "        self.table = SimpleTableInput(self, 3, 4)\n",
    "        self.submit = tk.Button(self, text=\"Submit\", command=self.on_submit)\n",
    "        self.table.pack(side=\"top\", fill=\"both\", expand=True)\n",
    "        self.submit.pack(side=\"bottom\")\n",
    "\n",
    "    def on_submit(self):\n",
    "        print(self.table.get())\n",
    "\n",
    "\n",
    "root = tk.Tk()\n",
    "Example(root).pack(side=\"top\", fill=\"both\", expand=True)\n",
    "root.mainloop()"
   ]
  }
 ],
 "metadata": {
  "kernelspec": {
   "display_name": "Python 3",
   "language": "python",
   "name": "python3"
  },
  "language_info": {
   "codemirror_mode": {
    "name": "ipython",
    "version": 3
   },
   "file_extension": ".py",
   "mimetype": "text/x-python",
   "name": "python",
   "nbconvert_exporter": "python",
   "pygments_lexer": "ipython3",
   "version": "3.7.3"
  }
 },
 "nbformat": 4,
 "nbformat_minor": 2
}
